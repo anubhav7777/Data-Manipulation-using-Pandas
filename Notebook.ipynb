{
 "cells": [
  {
   "cell_type": "code",
   "execution_count": 1,
   "metadata": {},
   "outputs": [],
   "source": [
    "import os\n",
    "import numpy as np\n",
    "import pandas as pd"
   ]
  },
  {
   "cell_type": "code",
   "execution_count": 2,
   "metadata": {},
   "outputs": [
    {
     "data": {
      "text/plain": [
       "u'C:\\\\Users\\\\Administrator'"
      ]
     },
     "execution_count": 2,
     "metadata": {},
     "output_type": "execute_result"
    }
   ],
   "source": [
    "%pwd"
   ]
  },
  {
   "cell_type": "code",
   "execution_count": 3,
   "metadata": {},
   "outputs": [
    {
     "name": "stdout",
     "output_type": "stream",
     "text": [
      "C:\\Users\\Administrator\\Desktop\n"
     ]
    }
   ],
   "source": [
    "%cd C://Users//Administrator//Desktop"
   ]
  },
  {
   "cell_type": "code",
   "execution_count": 4,
   "metadata": {},
   "outputs": [],
   "source": [
    "cust_demo = pd.read_csv(\"Cust_demo.csv\")"
   ]
  },
  {
   "cell_type": "code",
   "execution_count": 5,
   "metadata": {},
   "outputs": [],
   "source": [
    "cust_data = pd.read_csv(\"Cust_data.csv\")"
   ]
  },
  {
   "cell_type": "code",
   "execution_count": 6,
   "metadata": {},
   "outputs": [
    {
     "data": {
      "text/html": [
       "<div>\n",
       "<style scoped>\n",
       "    .dataframe tbody tr th:only-of-type {\n",
       "        vertical-align: middle;\n",
       "    }\n",
       "\n",
       "    .dataframe tbody tr th {\n",
       "        vertical-align: top;\n",
       "    }\n",
       "\n",
       "    .dataframe thead th {\n",
       "        text-align: right;\n",
       "    }\n",
       "</style>\n",
       "<table border=\"1\" class=\"dataframe\">\n",
       "  <thead>\n",
       "    <tr style=\"text-align: right;\">\n",
       "      <th></th>\n",
       "      <th>ID</th>\n",
       "      <th>Location</th>\n",
       "      <th>Gender</th>\n",
       "      <th>age</th>\n",
       "      <th>Martial_Status</th>\n",
       "      <th>NumberOfDependents</th>\n",
       "      <th>Own_House</th>\n",
       "      <th>No_Years_address</th>\n",
       "    </tr>\n",
       "  </thead>\n",
       "  <tbody>\n",
       "    <tr>\n",
       "      <th>0</th>\n",
       "      <td>4532</td>\n",
       "      <td>Gandhinagar,Gujarat</td>\n",
       "      <td>0</td>\n",
       "      <td>39</td>\n",
       "      <td>Single</td>\n",
       "      <td>1.0</td>\n",
       "      <td>1</td>\n",
       "      <td>3</td>\n",
       "    </tr>\n",
       "    <tr>\n",
       "      <th>1</th>\n",
       "      <td>148736</td>\n",
       "      <td>Hyderabad,Andhra Pradesh</td>\n",
       "      <td>0</td>\n",
       "      <td>52</td>\n",
       "      <td>Married</td>\n",
       "      <td>0.0</td>\n",
       "      <td>0</td>\n",
       "      <td>3</td>\n",
       "    </tr>\n",
       "    <tr>\n",
       "      <th>2</th>\n",
       "      <td>95965</td>\n",
       "      <td>Shimla,Himachal Pradesh</td>\n",
       "      <td>0</td>\n",
       "      <td>62</td>\n",
       "      <td>Married</td>\n",
       "      <td>0.0</td>\n",
       "      <td>0</td>\n",
       "      <td>2</td>\n",
       "    </tr>\n",
       "    <tr>\n",
       "      <th>3</th>\n",
       "      <td>61759</td>\n",
       "      <td>Srinagar,JK</td>\n",
       "      <td>0</td>\n",
       "      <td>42</td>\n",
       "      <td>Single</td>\n",
       "      <td>1.0</td>\n",
       "      <td>1</td>\n",
       "      <td>1</td>\n",
       "    </tr>\n",
       "  </tbody>\n",
       "</table>\n",
       "</div>"
      ],
      "text/plain": [
       "       ID                  Location  Gender  age Martial_Status  \\\n",
       "0    4532       Gandhinagar,Gujarat       0   39         Single   \n",
       "1  148736  Hyderabad,Andhra Pradesh       0   52        Married   \n",
       "2   95965   Shimla,Himachal Pradesh       0   62        Married   \n",
       "3   61759               Srinagar,JK       0   42         Single   \n",
       "\n",
       "   NumberOfDependents  Own_House  No_Years_address  \n",
       "0                 1.0          1                 3  \n",
       "1                 0.0          0                 3  \n",
       "2                 0.0          0                 2  \n",
       "3                 1.0          1                 1  "
      ]
     },
     "execution_count": 6,
     "metadata": {},
     "output_type": "execute_result"
    }
   ],
   "source": [
    "cust_demo.head(4)"
   ]
  },
  {
   "cell_type": "markdown",
   "metadata": {},
   "source": [
    "-->\tCreate sub set of cust_demo as “cust_s1” with ID, age, Gender and Location variables using the condition marital_status = “Married” and Own_house = 1 and age>28."
   ]
  },
  {
   "cell_type": "code",
   "execution_count": 7,
   "metadata": {},
   "outputs": [],
   "source": [
    "cust_s1 = cust_demo.loc[(cust_demo.Martial_Status == 'Married')&(cust_demo.Own_House == 1)&(cust_demo.age>28),[\"ID\",\"Location\",\"Gender\",\"age\"]]"
   ]
  },
  {
   "cell_type": "code",
   "execution_count": 8,
   "metadata": {
    "scrolled": true
   },
   "outputs": [
    {
     "data": {
      "text/html": [
       "<div>\n",
       "<style scoped>\n",
       "    .dataframe tbody tr th:only-of-type {\n",
       "        vertical-align: middle;\n",
       "    }\n",
       "\n",
       "    .dataframe tbody tr th {\n",
       "        vertical-align: top;\n",
       "    }\n",
       "\n",
       "    .dataframe thead th {\n",
       "        text-align: right;\n",
       "    }\n",
       "</style>\n",
       "<table border=\"1\" class=\"dataframe\">\n",
       "  <thead>\n",
       "    <tr style=\"text-align: right;\">\n",
       "      <th></th>\n",
       "      <th>ID</th>\n",
       "      <th>Location</th>\n",
       "      <th>Gender</th>\n",
       "      <th>age</th>\n",
       "    </tr>\n",
       "  </thead>\n",
       "  <tbody>\n",
       "    <tr>\n",
       "      <th>28</th>\n",
       "      <td>26404</td>\n",
       "      <td>Kolkata,West Bengal</td>\n",
       "      <td>0</td>\n",
       "      <td>33</td>\n",
       "    </tr>\n",
       "    <tr>\n",
       "      <th>42</th>\n",
       "      <td>137858</td>\n",
       "      <td>Chennai,Tamil Nadu</td>\n",
       "      <td>0</td>\n",
       "      <td>34</td>\n",
       "    </tr>\n",
       "    <tr>\n",
       "      <th>50</th>\n",
       "      <td>57715</td>\n",
       "      <td>Thiruvananthapuram,Kerala</td>\n",
       "      <td>1</td>\n",
       "      <td>39</td>\n",
       "    </tr>\n",
       "    <tr>\n",
       "      <th>52</th>\n",
       "      <td>76230</td>\n",
       "      <td>Chandigarh,Haryana</td>\n",
       "      <td>1</td>\n",
       "      <td>53</td>\n",
       "    </tr>\n",
       "  </tbody>\n",
       "</table>\n",
       "</div>"
      ],
      "text/plain": [
       "        ID                   Location  Gender  age\n",
       "28   26404        Kolkata,West Bengal       0   33\n",
       "42  137858         Chennai,Tamil Nadu       0   34\n",
       "50   57715  Thiruvananthapuram,Kerala       1   39\n",
       "52   76230         Chandigarh,Haryana       1   53"
      ]
     },
     "execution_count": 8,
     "metadata": {},
     "output_type": "execute_result"
    }
   ],
   "source": [
    "cust_s1.head(4)"
   ]
  },
  {
   "cell_type": "markdown",
   "metadata": {},
   "source": [
    "-->\tSort the cust_s1 dataset using location in ascending order and age in descending order with in the location."
   ]
  },
  {
   "cell_type": "code",
   "execution_count": 9,
   "metadata": {
    "scrolled": true
   },
   "outputs": [
    {
     "data": {
      "text/html": [
       "<div>\n",
       "<style scoped>\n",
       "    .dataframe tbody tr th:only-of-type {\n",
       "        vertical-align: middle;\n",
       "    }\n",
       "\n",
       "    .dataframe tbody tr th {\n",
       "        vertical-align: top;\n",
       "    }\n",
       "\n",
       "    .dataframe thead th {\n",
       "        text-align: right;\n",
       "    }\n",
       "</style>\n",
       "<table border=\"1\" class=\"dataframe\">\n",
       "  <thead>\n",
       "    <tr style=\"text-align: right;\">\n",
       "      <th></th>\n",
       "      <th>ID</th>\n",
       "      <th>Location</th>\n",
       "      <th>Gender</th>\n",
       "      <th>age</th>\n",
       "    </tr>\n",
       "  </thead>\n",
       "  <tbody>\n",
       "    <tr>\n",
       "      <th>83512</th>\n",
       "      <td>106073</td>\n",
       "      <td>Agartala,Tripura</td>\n",
       "      <td>1</td>\n",
       "      <td>90</td>\n",
       "    </tr>\n",
       "    <tr>\n",
       "      <th>49124</th>\n",
       "      <td>8967</td>\n",
       "      <td>Agartala,Tripura</td>\n",
       "      <td>1</td>\n",
       "      <td>88</td>\n",
       "    </tr>\n",
       "    <tr>\n",
       "      <th>65242</th>\n",
       "      <td>44249</td>\n",
       "      <td>Agartala,Tripura</td>\n",
       "      <td>1</td>\n",
       "      <td>87</td>\n",
       "    </tr>\n",
       "    <tr>\n",
       "      <th>148381</th>\n",
       "      <td>28287</td>\n",
       "      <td>Agartala,Tripura</td>\n",
       "      <td>0</td>\n",
       "      <td>86</td>\n",
       "    </tr>\n",
       "  </tbody>\n",
       "</table>\n",
       "</div>"
      ],
      "text/plain": [
       "            ID          Location  Gender  age\n",
       "83512   106073  Agartala,Tripura       1   90\n",
       "49124     8967  Agartala,Tripura       1   88\n",
       "65242    44249  Agartala,Tripura       1   87\n",
       "148381   28287  Agartala,Tripura       0   86"
      ]
     },
     "execution_count": 9,
     "metadata": {},
     "output_type": "execute_result"
    }
   ],
   "source": [
    "cust_s1.sort_values(by=['Location','age'],ascending=[True,False]).head(4)"
   ]
  },
  {
   "cell_type": "markdown",
   "metadata": {},
   "source": [
    "-->Rename the variable “NumberOfDependents” as “No_of_dependents” in cust_demo data"
   ]
  },
  {
   "cell_type": "code",
   "execution_count": 10,
   "metadata": {},
   "outputs": [],
   "source": [
    "cust_demo = cust_demo.rename(columns={'NumberOfDependents':'No_of_dependents'})"
   ]
  },
  {
   "cell_type": "code",
   "execution_count": 11,
   "metadata": {
    "scrolled": true
   },
   "outputs": [
    {
     "data": {
      "text/html": [
       "<div>\n",
       "<style scoped>\n",
       "    .dataframe tbody tr th:only-of-type {\n",
       "        vertical-align: middle;\n",
       "    }\n",
       "\n",
       "    .dataframe tbody tr th {\n",
       "        vertical-align: top;\n",
       "    }\n",
       "\n",
       "    .dataframe thead th {\n",
       "        text-align: right;\n",
       "    }\n",
       "</style>\n",
       "<table border=\"1\" class=\"dataframe\">\n",
       "  <thead>\n",
       "    <tr style=\"text-align: right;\">\n",
       "      <th></th>\n",
       "      <th>ID</th>\n",
       "      <th>Location</th>\n",
       "      <th>Gender</th>\n",
       "      <th>age</th>\n",
       "      <th>Martial_Status</th>\n",
       "      <th>No_of_dependents</th>\n",
       "      <th>Own_House</th>\n",
       "      <th>No_Years_address</th>\n",
       "    </tr>\n",
       "  </thead>\n",
       "  <tbody>\n",
       "    <tr>\n",
       "      <th>0</th>\n",
       "      <td>4532</td>\n",
       "      <td>Gandhinagar,Gujarat</td>\n",
       "      <td>0</td>\n",
       "      <td>39</td>\n",
       "      <td>Single</td>\n",
       "      <td>1.0</td>\n",
       "      <td>1</td>\n",
       "      <td>3</td>\n",
       "    </tr>\n",
       "    <tr>\n",
       "      <th>1</th>\n",
       "      <td>148736</td>\n",
       "      <td>Hyderabad,Andhra Pradesh</td>\n",
       "      <td>0</td>\n",
       "      <td>52</td>\n",
       "      <td>Married</td>\n",
       "      <td>0.0</td>\n",
       "      <td>0</td>\n",
       "      <td>3</td>\n",
       "    </tr>\n",
       "    <tr>\n",
       "      <th>2</th>\n",
       "      <td>95965</td>\n",
       "      <td>Shimla,Himachal Pradesh</td>\n",
       "      <td>0</td>\n",
       "      <td>62</td>\n",
       "      <td>Married</td>\n",
       "      <td>0.0</td>\n",
       "      <td>0</td>\n",
       "      <td>2</td>\n",
       "    </tr>\n",
       "    <tr>\n",
       "      <th>3</th>\n",
       "      <td>61759</td>\n",
       "      <td>Srinagar,JK</td>\n",
       "      <td>0</td>\n",
       "      <td>42</td>\n",
       "      <td>Single</td>\n",
       "      <td>1.0</td>\n",
       "      <td>1</td>\n",
       "      <td>1</td>\n",
       "    </tr>\n",
       "  </tbody>\n",
       "</table>\n",
       "</div>"
      ],
      "text/plain": [
       "       ID                  Location  Gender  age Martial_Status  \\\n",
       "0    4532       Gandhinagar,Gujarat       0   39         Single   \n",
       "1  148736  Hyderabad,Andhra Pradesh       0   52        Married   \n",
       "2   95965   Shimla,Himachal Pradesh       0   62        Married   \n",
       "3   61759               Srinagar,JK       0   42         Single   \n",
       "\n",
       "   No_of_dependents  Own_House  No_Years_address  \n",
       "0               1.0          1                 3  \n",
       "1               0.0          0                 3  \n",
       "2               0.0          0                 2  \n",
       "3               1.0          1                 1  "
      ]
     },
     "execution_count": 11,
     "metadata": {},
     "output_type": "execute_result"
    }
   ],
   "source": [
    "cust_demo.head(4)"
   ]
  },
  {
   "cell_type": "markdown",
   "metadata": {},
   "source": [
    "-->Remove duplicates from the both data sets Cust_data & Cust_Demo."
   ]
  },
  {
   "cell_type": "code",
   "execution_count": 12,
   "metadata": {},
   "outputs": [
    {
     "data": {
      "text/plain": [
       "(149972, 8)"
      ]
     },
     "execution_count": 12,
     "metadata": {},
     "output_type": "execute_result"
    }
   ],
   "source": [
    "cust_demo.shape"
   ]
  },
  {
   "cell_type": "code",
   "execution_count": 13,
   "metadata": {},
   "outputs": [],
   "source": [
    "cust_demo.drop_duplicates(inplace = True)"
   ]
  },
  {
   "cell_type": "code",
   "execution_count": 14,
   "metadata": {},
   "outputs": [
    {
     "data": {
      "text/plain": [
       "(149956, 8)"
      ]
     },
     "execution_count": 14,
     "metadata": {},
     "output_type": "execute_result"
    }
   ],
   "source": [
    "cust_demo.shape"
   ]
  },
  {
   "cell_type": "code",
   "execution_count": 15,
   "metadata": {},
   "outputs": [
    {
     "data": {
      "text/plain": [
       "(149902, 10)"
      ]
     },
     "execution_count": 15,
     "metadata": {},
     "output_type": "execute_result"
    }
   ],
   "source": [
    "cust_data.shape"
   ]
  },
  {
   "cell_type": "code",
   "execution_count": 16,
   "metadata": {},
   "outputs": [],
   "source": [
    "cust_data.drop_duplicates(inplace = True)"
   ]
  },
  {
   "cell_type": "code",
   "execution_count": 17,
   "metadata": {},
   "outputs": [
    {
     "data": {
      "text/plain": [
       "(149902, 10)"
      ]
     },
     "execution_count": 17,
     "metadata": {},
     "output_type": "execute_result"
    }
   ],
   "source": [
    "cust_data.shape"
   ]
  },
  {
   "cell_type": "markdown",
   "metadata": {},
   "source": [
    "-->\tCreate new variable as “No_of_30_plus_DPD = No_of_30_59_DPD+No_of_90_DPD+No_of_60_89_DPD”, \n",
    "-->“No_of_60_plus_DPD = No_of_90_DPD+ No_of_60_89_DPD” in cust_data.\n"
   ]
  },
  {
   "cell_type": "code",
   "execution_count": 18,
   "metadata": {},
   "outputs": [],
   "source": [
    "cust_data['No_of_30_Plus_DPD'] = cust_data['No_of_30_59_DPD']+cust_data['No_of_60_89_DPD']+cust_data['No_of_90_DPD']\n",
    "cust_data['No_of_60_plus_DPD'] = cust_data['No_of_60_89_DPD']+cust_data['No_of_90_DPD']"
   ]
  },
  {
   "cell_type": "code",
   "execution_count": 19,
   "metadata": {
    "scrolled": true
   },
   "outputs": [
    {
     "data": {
      "text/html": [
       "<div>\n",
       "<style scoped>\n",
       "    .dataframe tbody tr th:only-of-type {\n",
       "        vertical-align: middle;\n",
       "    }\n",
       "\n",
       "    .dataframe tbody tr th {\n",
       "        vertical-align: top;\n",
       "    }\n",
       "\n",
       "    .dataframe thead th {\n",
       "        text-align: right;\n",
       "    }\n",
       "</style>\n",
       "<table border=\"1\" class=\"dataframe\">\n",
       "  <thead>\n",
       "    <tr style=\"text-align: right;\">\n",
       "      <th></th>\n",
       "      <th>ID</th>\n",
       "      <th>SeriousDlqin2yrs</th>\n",
       "      <th>RevolvingUtilization</th>\n",
       "      <th>No_of_30_59_DPD</th>\n",
       "      <th>DebtRatio</th>\n",
       "      <th>MonthlyIncome</th>\n",
       "      <th>No_Of_OpenCreditLines</th>\n",
       "      <th>No_of_90_DPD</th>\n",
       "      <th>No_of_RealEstateLoans</th>\n",
       "      <th>No_of_60_89_DPD</th>\n",
       "      <th>No_of_30_Plus_DPD</th>\n",
       "      <th>No_of_60_plus_DPD</th>\n",
       "    </tr>\n",
       "  </thead>\n",
       "  <tbody>\n",
       "    <tr>\n",
       "      <th>0</th>\n",
       "      <td>83236</td>\n",
       "      <td>0</td>\n",
       "      <td>0.311726</td>\n",
       "      <td>0</td>\n",
       "      <td>0.296409</td>\n",
       "      <td>11500.0</td>\n",
       "      <td>12</td>\n",
       "      <td>0</td>\n",
       "      <td>3</td>\n",
       "      <td>0</td>\n",
       "      <td>0</td>\n",
       "      <td>0</td>\n",
       "    </tr>\n",
       "    <tr>\n",
       "      <th>1</th>\n",
       "      <td>2503</td>\n",
       "      <td>0</td>\n",
       "      <td>0.124988</td>\n",
       "      <td>0</td>\n",
       "      <td>0.115903</td>\n",
       "      <td>14166.0</td>\n",
       "      <td>13</td>\n",
       "      <td>0</td>\n",
       "      <td>1</td>\n",
       "      <td>0</td>\n",
       "      <td>0</td>\n",
       "      <td>0</td>\n",
       "    </tr>\n",
       "    <tr>\n",
       "      <th>2</th>\n",
       "      <td>137013</td>\n",
       "      <td>0</td>\n",
       "      <td>0.060258</td>\n",
       "      <td>0</td>\n",
       "      <td>0.515147</td>\n",
       "      <td>6733.0</td>\n",
       "      <td>7</td>\n",
       "      <td>0</td>\n",
       "      <td>3</td>\n",
       "      <td>0</td>\n",
       "      <td>0</td>\n",
       "      <td>0</td>\n",
       "    </tr>\n",
       "    <tr>\n",
       "      <th>3</th>\n",
       "      <td>51306</td>\n",
       "      <td>0</td>\n",
       "      <td>0.064322</td>\n",
       "      <td>0</td>\n",
       "      <td>0.165127</td>\n",
       "      <td>13316.0</td>\n",
       "      <td>10</td>\n",
       "      <td>0</td>\n",
       "      <td>1</td>\n",
       "      <td>0</td>\n",
       "      <td>0</td>\n",
       "      <td>0</td>\n",
       "    </tr>\n",
       "  </tbody>\n",
       "</table>\n",
       "</div>"
      ],
      "text/plain": [
       "       ID  SeriousDlqin2yrs  RevolvingUtilization  No_of_30_59_DPD  DebtRatio  \\\n",
       "0   83236                 0              0.311726                0   0.296409   \n",
       "1    2503                 0              0.124988                0   0.115903   \n",
       "2  137013                 0              0.060258                0   0.515147   \n",
       "3   51306                 0              0.064322                0   0.165127   \n",
       "\n",
       "   MonthlyIncome  No_Of_OpenCreditLines  No_of_90_DPD  No_of_RealEstateLoans  \\\n",
       "0        11500.0                     12             0                      3   \n",
       "1        14166.0                     13             0                      1   \n",
       "2         6733.0                      7             0                      3   \n",
       "3        13316.0                     10             0                      1   \n",
       "\n",
       "   No_of_60_89_DPD  No_of_30_Plus_DPD  No_of_60_plus_DPD  \n",
       "0                0                  0                  0  \n",
       "1                0                  0                  0  \n",
       "2                0                  0                  0  \n",
       "3                0                  0                  0  "
      ]
     },
     "execution_count": 19,
     "metadata": {},
     "output_type": "execute_result"
    }
   ],
   "source": [
    "cust_data.head(4)"
   ]
  },
  {
   "cell_type": "markdown",
   "metadata": {},
   "source": [
    "-->\tPerform below joins between cust_data & cust_demo.\n",
    "\n",
    "a.\tCreate data set “cust_leftjoin” using Left Join\n",
    "\n",
    "b.\tCreate data set “cust_rightjoin” using right Join\n",
    "\n",
    "c.\tCreate data set “cust_innterjoin” using inner Join\n",
    "\n",
    "d.\tCreate data set “cust_fulljoin” using full Join\n"
   ]
  },
  {
   "cell_type": "code",
   "execution_count": 20,
   "metadata": {},
   "outputs": [],
   "source": [
    "cust_leftjoin = pd.merge(cust_data,cust_demo,how='left')"
   ]
  },
  {
   "cell_type": "code",
   "execution_count": 21,
   "metadata": {},
   "outputs": [
    {
     "data": {
      "text/html": [
       "<div>\n",
       "<style scoped>\n",
       "    .dataframe tbody tr th:only-of-type {\n",
       "        vertical-align: middle;\n",
       "    }\n",
       "\n",
       "    .dataframe tbody tr th {\n",
       "        vertical-align: top;\n",
       "    }\n",
       "\n",
       "    .dataframe thead th {\n",
       "        text-align: right;\n",
       "    }\n",
       "</style>\n",
       "<table border=\"1\" class=\"dataframe\">\n",
       "  <thead>\n",
       "    <tr style=\"text-align: right;\">\n",
       "      <th></th>\n",
       "      <th>ID</th>\n",
       "      <th>SeriousDlqin2yrs</th>\n",
       "      <th>RevolvingUtilization</th>\n",
       "      <th>No_of_30_59_DPD</th>\n",
       "      <th>DebtRatio</th>\n",
       "      <th>MonthlyIncome</th>\n",
       "      <th>No_Of_OpenCreditLines</th>\n",
       "      <th>No_of_90_DPD</th>\n",
       "      <th>No_of_RealEstateLoans</th>\n",
       "      <th>No_of_60_89_DPD</th>\n",
       "      <th>No_of_30_Plus_DPD</th>\n",
       "      <th>No_of_60_plus_DPD</th>\n",
       "      <th>Location</th>\n",
       "      <th>Gender</th>\n",
       "      <th>age</th>\n",
       "      <th>Martial_Status</th>\n",
       "      <th>No_of_dependents</th>\n",
       "      <th>Own_House</th>\n",
       "      <th>No_Years_address</th>\n",
       "    </tr>\n",
       "  </thead>\n",
       "  <tbody>\n",
       "    <tr>\n",
       "      <th>0</th>\n",
       "      <td>83236</td>\n",
       "      <td>0</td>\n",
       "      <td>0.311726</td>\n",
       "      <td>0</td>\n",
       "      <td>0.296409</td>\n",
       "      <td>11500.0</td>\n",
       "      <td>12</td>\n",
       "      <td>0</td>\n",
       "      <td>3</td>\n",
       "      <td>0</td>\n",
       "      <td>0</td>\n",
       "      <td>0</td>\n",
       "      <td>Raipur,Chhattisgarh</td>\n",
       "      <td>0.0</td>\n",
       "      <td>46.0</td>\n",
       "      <td>Single</td>\n",
       "      <td>2.0</td>\n",
       "      <td>1.0</td>\n",
       "      <td>3.0</td>\n",
       "    </tr>\n",
       "    <tr>\n",
       "      <th>1</th>\n",
       "      <td>2503</td>\n",
       "      <td>0</td>\n",
       "      <td>0.124988</td>\n",
       "      <td>0</td>\n",
       "      <td>0.115903</td>\n",
       "      <td>14166.0</td>\n",
       "      <td>13</td>\n",
       "      <td>0</td>\n",
       "      <td>1</td>\n",
       "      <td>0</td>\n",
       "      <td>0</td>\n",
       "      <td>0</td>\n",
       "      <td>Itanagar,Arunachal Pradesh</td>\n",
       "      <td>1.0</td>\n",
       "      <td>57.0</td>\n",
       "      <td>Single</td>\n",
       "      <td>2.0</td>\n",
       "      <td>0.0</td>\n",
       "      <td>3.0</td>\n",
       "    </tr>\n",
       "    <tr>\n",
       "      <th>2</th>\n",
       "      <td>137013</td>\n",
       "      <td>0</td>\n",
       "      <td>0.060258</td>\n",
       "      <td>0</td>\n",
       "      <td>0.515147</td>\n",
       "      <td>6733.0</td>\n",
       "      <td>7</td>\n",
       "      <td>0</td>\n",
       "      <td>3</td>\n",
       "      <td>0</td>\n",
       "      <td>0</td>\n",
       "      <td>0</td>\n",
       "      <td>Chandigarh,Haryana</td>\n",
       "      <td>0.0</td>\n",
       "      <td>56.0</td>\n",
       "      <td>Married</td>\n",
       "      <td>0.0</td>\n",
       "      <td>1.0</td>\n",
       "      <td>1.0</td>\n",
       "    </tr>\n",
       "    <tr>\n",
       "      <th>3</th>\n",
       "      <td>51306</td>\n",
       "      <td>0</td>\n",
       "      <td>0.064322</td>\n",
       "      <td>0</td>\n",
       "      <td>0.165127</td>\n",
       "      <td>13316.0</td>\n",
       "      <td>10</td>\n",
       "      <td>0</td>\n",
       "      <td>1</td>\n",
       "      <td>0</td>\n",
       "      <td>0</td>\n",
       "      <td>0</td>\n",
       "      <td>Aizawl,Mizoram</td>\n",
       "      <td>0.0</td>\n",
       "      <td>56.0</td>\n",
       "      <td>Single</td>\n",
       "      <td>2.0</td>\n",
       "      <td>0.0</td>\n",
       "      <td>1.0</td>\n",
       "    </tr>\n",
       "  </tbody>\n",
       "</table>\n",
       "</div>"
      ],
      "text/plain": [
       "       ID  SeriousDlqin2yrs  RevolvingUtilization  No_of_30_59_DPD  DebtRatio  \\\n",
       "0   83236                 0              0.311726                0   0.296409   \n",
       "1    2503                 0              0.124988                0   0.115903   \n",
       "2  137013                 0              0.060258                0   0.515147   \n",
       "3   51306                 0              0.064322                0   0.165127   \n",
       "\n",
       "   MonthlyIncome  No_Of_OpenCreditLines  No_of_90_DPD  No_of_RealEstateLoans  \\\n",
       "0        11500.0                     12             0                      3   \n",
       "1        14166.0                     13             0                      1   \n",
       "2         6733.0                      7             0                      3   \n",
       "3        13316.0                     10             0                      1   \n",
       "\n",
       "   No_of_60_89_DPD  No_of_30_Plus_DPD  No_of_60_plus_DPD  \\\n",
       "0                0                  0                  0   \n",
       "1                0                  0                  0   \n",
       "2                0                  0                  0   \n",
       "3                0                  0                  0   \n",
       "\n",
       "                     Location  Gender   age Martial_Status  No_of_dependents  \\\n",
       "0         Raipur,Chhattisgarh     0.0  46.0         Single               2.0   \n",
       "1  Itanagar,Arunachal Pradesh     1.0  57.0         Single               2.0   \n",
       "2          Chandigarh,Haryana     0.0  56.0        Married               0.0   \n",
       "3              Aizawl,Mizoram     0.0  56.0         Single               2.0   \n",
       "\n",
       "   Own_House  No_Years_address  \n",
       "0        1.0               3.0  \n",
       "1        0.0               3.0  \n",
       "2        1.0               1.0  \n",
       "3        0.0               1.0  "
      ]
     },
     "execution_count": 21,
     "metadata": {},
     "output_type": "execute_result"
    }
   ],
   "source": [
    "cust_leftjoin.head(4)"
   ]
  },
  {
   "cell_type": "code",
   "execution_count": 22,
   "metadata": {},
   "outputs": [],
   "source": [
    "cust_rightjoin = pd.merge(cust_data,cust_demo,how='right')"
   ]
  },
  {
   "cell_type": "code",
   "execution_count": 23,
   "metadata": {},
   "outputs": [
    {
     "data": {
      "text/html": [
       "<div>\n",
       "<style scoped>\n",
       "    .dataframe tbody tr th:only-of-type {\n",
       "        vertical-align: middle;\n",
       "    }\n",
       "\n",
       "    .dataframe tbody tr th {\n",
       "        vertical-align: top;\n",
       "    }\n",
       "\n",
       "    .dataframe thead th {\n",
       "        text-align: right;\n",
       "    }\n",
       "</style>\n",
       "<table border=\"1\" class=\"dataframe\">\n",
       "  <thead>\n",
       "    <tr style=\"text-align: right;\">\n",
       "      <th></th>\n",
       "      <th>ID</th>\n",
       "      <th>SeriousDlqin2yrs</th>\n",
       "      <th>RevolvingUtilization</th>\n",
       "      <th>No_of_30_59_DPD</th>\n",
       "      <th>DebtRatio</th>\n",
       "      <th>MonthlyIncome</th>\n",
       "      <th>No_Of_OpenCreditLines</th>\n",
       "      <th>No_of_90_DPD</th>\n",
       "      <th>No_of_RealEstateLoans</th>\n",
       "      <th>No_of_60_89_DPD</th>\n",
       "      <th>No_of_30_Plus_DPD</th>\n",
       "      <th>No_of_60_plus_DPD</th>\n",
       "      <th>Location</th>\n",
       "      <th>Gender</th>\n",
       "      <th>age</th>\n",
       "      <th>Martial_Status</th>\n",
       "      <th>No_of_dependents</th>\n",
       "      <th>Own_House</th>\n",
       "      <th>No_Years_address</th>\n",
       "    </tr>\n",
       "  </thead>\n",
       "  <tbody>\n",
       "    <tr>\n",
       "      <th>0</th>\n",
       "      <td>83236</td>\n",
       "      <td>0.0</td>\n",
       "      <td>0.311726</td>\n",
       "      <td>0.0</td>\n",
       "      <td>0.296409</td>\n",
       "      <td>11500.0</td>\n",
       "      <td>12.0</td>\n",
       "      <td>0.0</td>\n",
       "      <td>3.0</td>\n",
       "      <td>0.0</td>\n",
       "      <td>0.0</td>\n",
       "      <td>0.0</td>\n",
       "      <td>Raipur,Chhattisgarh</td>\n",
       "      <td>0</td>\n",
       "      <td>46</td>\n",
       "      <td>Single</td>\n",
       "      <td>2.0</td>\n",
       "      <td>1</td>\n",
       "      <td>3</td>\n",
       "    </tr>\n",
       "    <tr>\n",
       "      <th>1</th>\n",
       "      <td>2503</td>\n",
       "      <td>0.0</td>\n",
       "      <td>0.124988</td>\n",
       "      <td>0.0</td>\n",
       "      <td>0.115903</td>\n",
       "      <td>14166.0</td>\n",
       "      <td>13.0</td>\n",
       "      <td>0.0</td>\n",
       "      <td>1.0</td>\n",
       "      <td>0.0</td>\n",
       "      <td>0.0</td>\n",
       "      <td>0.0</td>\n",
       "      <td>Itanagar,Arunachal Pradesh</td>\n",
       "      <td>1</td>\n",
       "      <td>57</td>\n",
       "      <td>Single</td>\n",
       "      <td>2.0</td>\n",
       "      <td>0</td>\n",
       "      <td>3</td>\n",
       "    </tr>\n",
       "    <tr>\n",
       "      <th>2</th>\n",
       "      <td>137013</td>\n",
       "      <td>0.0</td>\n",
       "      <td>0.060258</td>\n",
       "      <td>0.0</td>\n",
       "      <td>0.515147</td>\n",
       "      <td>6733.0</td>\n",
       "      <td>7.0</td>\n",
       "      <td>0.0</td>\n",
       "      <td>3.0</td>\n",
       "      <td>0.0</td>\n",
       "      <td>0.0</td>\n",
       "      <td>0.0</td>\n",
       "      <td>Chandigarh,Haryana</td>\n",
       "      <td>0</td>\n",
       "      <td>56</td>\n",
       "      <td>Married</td>\n",
       "      <td>0.0</td>\n",
       "      <td>1</td>\n",
       "      <td>1</td>\n",
       "    </tr>\n",
       "    <tr>\n",
       "      <th>3</th>\n",
       "      <td>51306</td>\n",
       "      <td>0.0</td>\n",
       "      <td>0.064322</td>\n",
       "      <td>0.0</td>\n",
       "      <td>0.165127</td>\n",
       "      <td>13316.0</td>\n",
       "      <td>10.0</td>\n",
       "      <td>0.0</td>\n",
       "      <td>1.0</td>\n",
       "      <td>0.0</td>\n",
       "      <td>0.0</td>\n",
       "      <td>0.0</td>\n",
       "      <td>Aizawl,Mizoram</td>\n",
       "      <td>0</td>\n",
       "      <td>56</td>\n",
       "      <td>Single</td>\n",
       "      <td>2.0</td>\n",
       "      <td>0</td>\n",
       "      <td>1</td>\n",
       "    </tr>\n",
       "  </tbody>\n",
       "</table>\n",
       "</div>"
      ],
      "text/plain": [
       "       ID  SeriousDlqin2yrs  RevolvingUtilization  No_of_30_59_DPD  DebtRatio  \\\n",
       "0   83236               0.0              0.311726              0.0   0.296409   \n",
       "1    2503               0.0              0.124988              0.0   0.115903   \n",
       "2  137013               0.0              0.060258              0.0   0.515147   \n",
       "3   51306               0.0              0.064322              0.0   0.165127   \n",
       "\n",
       "   MonthlyIncome  No_Of_OpenCreditLines  No_of_90_DPD  No_of_RealEstateLoans  \\\n",
       "0        11500.0                   12.0           0.0                    3.0   \n",
       "1        14166.0                   13.0           0.0                    1.0   \n",
       "2         6733.0                    7.0           0.0                    3.0   \n",
       "3        13316.0                   10.0           0.0                    1.0   \n",
       "\n",
       "   No_of_60_89_DPD  No_of_30_Plus_DPD  No_of_60_plus_DPD  \\\n",
       "0              0.0                0.0                0.0   \n",
       "1              0.0                0.0                0.0   \n",
       "2              0.0                0.0                0.0   \n",
       "3              0.0                0.0                0.0   \n",
       "\n",
       "                     Location  Gender  age Martial_Status  No_of_dependents  \\\n",
       "0         Raipur,Chhattisgarh       0   46         Single               2.0   \n",
       "1  Itanagar,Arunachal Pradesh       1   57         Single               2.0   \n",
       "2          Chandigarh,Haryana       0   56        Married               0.0   \n",
       "3              Aizawl,Mizoram       0   56         Single               2.0   \n",
       "\n",
       "   Own_House  No_Years_address  \n",
       "0          1                 3  \n",
       "1          0                 3  \n",
       "2          1                 1  \n",
       "3          0                 1  "
      ]
     },
     "execution_count": 23,
     "metadata": {},
     "output_type": "execute_result"
    }
   ],
   "source": [
    "cust_rightjoin.head(4)"
   ]
  },
  {
   "cell_type": "code",
   "execution_count": 24,
   "metadata": {},
   "outputs": [],
   "source": [
    "cust_innterjoin = pd.merge(cust_data,cust_demo)"
   ]
  },
  {
   "cell_type": "code",
   "execution_count": 25,
   "metadata": {},
   "outputs": [
    {
     "data": {
      "text/html": [
       "<div>\n",
       "<style scoped>\n",
       "    .dataframe tbody tr th:only-of-type {\n",
       "        vertical-align: middle;\n",
       "    }\n",
       "\n",
       "    .dataframe tbody tr th {\n",
       "        vertical-align: top;\n",
       "    }\n",
       "\n",
       "    .dataframe thead th {\n",
       "        text-align: right;\n",
       "    }\n",
       "</style>\n",
       "<table border=\"1\" class=\"dataframe\">\n",
       "  <thead>\n",
       "    <tr style=\"text-align: right;\">\n",
       "      <th></th>\n",
       "      <th>ID</th>\n",
       "      <th>SeriousDlqin2yrs</th>\n",
       "      <th>RevolvingUtilization</th>\n",
       "      <th>No_of_30_59_DPD</th>\n",
       "      <th>DebtRatio</th>\n",
       "      <th>MonthlyIncome</th>\n",
       "      <th>No_Of_OpenCreditLines</th>\n",
       "      <th>No_of_90_DPD</th>\n",
       "      <th>No_of_RealEstateLoans</th>\n",
       "      <th>No_of_60_89_DPD</th>\n",
       "      <th>No_of_30_Plus_DPD</th>\n",
       "      <th>No_of_60_plus_DPD</th>\n",
       "      <th>Location</th>\n",
       "      <th>Gender</th>\n",
       "      <th>age</th>\n",
       "      <th>Martial_Status</th>\n",
       "      <th>No_of_dependents</th>\n",
       "      <th>Own_House</th>\n",
       "      <th>No_Years_address</th>\n",
       "    </tr>\n",
       "  </thead>\n",
       "  <tbody>\n",
       "    <tr>\n",
       "      <th>0</th>\n",
       "      <td>83236</td>\n",
       "      <td>0</td>\n",
       "      <td>0.311726</td>\n",
       "      <td>0</td>\n",
       "      <td>0.296409</td>\n",
       "      <td>11500.0</td>\n",
       "      <td>12</td>\n",
       "      <td>0</td>\n",
       "      <td>3</td>\n",
       "      <td>0</td>\n",
       "      <td>0</td>\n",
       "      <td>0</td>\n",
       "      <td>Raipur,Chhattisgarh</td>\n",
       "      <td>0</td>\n",
       "      <td>46</td>\n",
       "      <td>Single</td>\n",
       "      <td>2.0</td>\n",
       "      <td>1</td>\n",
       "      <td>3</td>\n",
       "    </tr>\n",
       "    <tr>\n",
       "      <th>1</th>\n",
       "      <td>2503</td>\n",
       "      <td>0</td>\n",
       "      <td>0.124988</td>\n",
       "      <td>0</td>\n",
       "      <td>0.115903</td>\n",
       "      <td>14166.0</td>\n",
       "      <td>13</td>\n",
       "      <td>0</td>\n",
       "      <td>1</td>\n",
       "      <td>0</td>\n",
       "      <td>0</td>\n",
       "      <td>0</td>\n",
       "      <td>Itanagar,Arunachal Pradesh</td>\n",
       "      <td>1</td>\n",
       "      <td>57</td>\n",
       "      <td>Single</td>\n",
       "      <td>2.0</td>\n",
       "      <td>0</td>\n",
       "      <td>3</td>\n",
       "    </tr>\n",
       "    <tr>\n",
       "      <th>2</th>\n",
       "      <td>137013</td>\n",
       "      <td>0</td>\n",
       "      <td>0.060258</td>\n",
       "      <td>0</td>\n",
       "      <td>0.515147</td>\n",
       "      <td>6733.0</td>\n",
       "      <td>7</td>\n",
       "      <td>0</td>\n",
       "      <td>3</td>\n",
       "      <td>0</td>\n",
       "      <td>0</td>\n",
       "      <td>0</td>\n",
       "      <td>Chandigarh,Haryana</td>\n",
       "      <td>0</td>\n",
       "      <td>56</td>\n",
       "      <td>Married</td>\n",
       "      <td>0.0</td>\n",
       "      <td>1</td>\n",
       "      <td>1</td>\n",
       "    </tr>\n",
       "    <tr>\n",
       "      <th>3</th>\n",
       "      <td>51306</td>\n",
       "      <td>0</td>\n",
       "      <td>0.064322</td>\n",
       "      <td>0</td>\n",
       "      <td>0.165127</td>\n",
       "      <td>13316.0</td>\n",
       "      <td>10</td>\n",
       "      <td>0</td>\n",
       "      <td>1</td>\n",
       "      <td>0</td>\n",
       "      <td>0</td>\n",
       "      <td>0</td>\n",
       "      <td>Aizawl,Mizoram</td>\n",
       "      <td>0</td>\n",
       "      <td>56</td>\n",
       "      <td>Single</td>\n",
       "      <td>2.0</td>\n",
       "      <td>0</td>\n",
       "      <td>1</td>\n",
       "    </tr>\n",
       "  </tbody>\n",
       "</table>\n",
       "</div>"
      ],
      "text/plain": [
       "       ID  SeriousDlqin2yrs  RevolvingUtilization  No_of_30_59_DPD  DebtRatio  \\\n",
       "0   83236                 0              0.311726                0   0.296409   \n",
       "1    2503                 0              0.124988                0   0.115903   \n",
       "2  137013                 0              0.060258                0   0.515147   \n",
       "3   51306                 0              0.064322                0   0.165127   \n",
       "\n",
       "   MonthlyIncome  No_Of_OpenCreditLines  No_of_90_DPD  No_of_RealEstateLoans  \\\n",
       "0        11500.0                     12             0                      3   \n",
       "1        14166.0                     13             0                      1   \n",
       "2         6733.0                      7             0                      3   \n",
       "3        13316.0                     10             0                      1   \n",
       "\n",
       "   No_of_60_89_DPD  No_of_30_Plus_DPD  No_of_60_plus_DPD  \\\n",
       "0                0                  0                  0   \n",
       "1                0                  0                  0   \n",
       "2                0                  0                  0   \n",
       "3                0                  0                  0   \n",
       "\n",
       "                     Location  Gender  age Martial_Status  No_of_dependents  \\\n",
       "0         Raipur,Chhattisgarh       0   46         Single               2.0   \n",
       "1  Itanagar,Arunachal Pradesh       1   57         Single               2.0   \n",
       "2          Chandigarh,Haryana       0   56        Married               0.0   \n",
       "3              Aizawl,Mizoram       0   56         Single               2.0   \n",
       "\n",
       "   Own_House  No_Years_address  \n",
       "0          1                 3  \n",
       "1          0                 3  \n",
       "2          1                 1  \n",
       "3          0                 1  "
      ]
     },
     "execution_count": 25,
     "metadata": {},
     "output_type": "execute_result"
    }
   ],
   "source": [
    "cust_innterjoin.head(4)"
   ]
  },
  {
   "cell_type": "code",
   "execution_count": 26,
   "metadata": {},
   "outputs": [],
   "source": [
    "cust_fulljoin = pd.concat([cust_data,cust_demo],axis=0)"
   ]
  },
  {
   "cell_type": "code",
   "execution_count": 27,
   "metadata": {
    "scrolled": true
   },
   "outputs": [
    {
     "data": {
      "text/html": [
       "<div>\n",
       "<style scoped>\n",
       "    .dataframe tbody tr th:only-of-type {\n",
       "        vertical-align: middle;\n",
       "    }\n",
       "\n",
       "    .dataframe tbody tr th {\n",
       "        vertical-align: top;\n",
       "    }\n",
       "\n",
       "    .dataframe thead th {\n",
       "        text-align: right;\n",
       "    }\n",
       "</style>\n",
       "<table border=\"1\" class=\"dataframe\">\n",
       "  <thead>\n",
       "    <tr style=\"text-align: right;\">\n",
       "      <th></th>\n",
       "      <th>DebtRatio</th>\n",
       "      <th>Gender</th>\n",
       "      <th>ID</th>\n",
       "      <th>Location</th>\n",
       "      <th>Martial_Status</th>\n",
       "      <th>MonthlyIncome</th>\n",
       "      <th>No_Of_OpenCreditLines</th>\n",
       "      <th>No_Years_address</th>\n",
       "      <th>No_of_30_59_DPD</th>\n",
       "      <th>No_of_30_Plus_DPD</th>\n",
       "      <th>No_of_60_89_DPD</th>\n",
       "      <th>No_of_60_plus_DPD</th>\n",
       "      <th>No_of_90_DPD</th>\n",
       "      <th>No_of_RealEstateLoans</th>\n",
       "      <th>No_of_dependents</th>\n",
       "      <th>Own_House</th>\n",
       "      <th>RevolvingUtilization</th>\n",
       "      <th>SeriousDlqin2yrs</th>\n",
       "      <th>age</th>\n",
       "    </tr>\n",
       "  </thead>\n",
       "  <tbody>\n",
       "    <tr>\n",
       "      <th>0</th>\n",
       "      <td>0.296409</td>\n",
       "      <td>NaN</td>\n",
       "      <td>83236</td>\n",
       "      <td>NaN</td>\n",
       "      <td>NaN</td>\n",
       "      <td>11500.0</td>\n",
       "      <td>12.0</td>\n",
       "      <td>NaN</td>\n",
       "      <td>0.0</td>\n",
       "      <td>0.0</td>\n",
       "      <td>0.0</td>\n",
       "      <td>0.0</td>\n",
       "      <td>0.0</td>\n",
       "      <td>3.0</td>\n",
       "      <td>NaN</td>\n",
       "      <td>NaN</td>\n",
       "      <td>0.311726</td>\n",
       "      <td>0.0</td>\n",
       "      <td>NaN</td>\n",
       "    </tr>\n",
       "    <tr>\n",
       "      <th>1</th>\n",
       "      <td>0.115903</td>\n",
       "      <td>NaN</td>\n",
       "      <td>2503</td>\n",
       "      <td>NaN</td>\n",
       "      <td>NaN</td>\n",
       "      <td>14166.0</td>\n",
       "      <td>13.0</td>\n",
       "      <td>NaN</td>\n",
       "      <td>0.0</td>\n",
       "      <td>0.0</td>\n",
       "      <td>0.0</td>\n",
       "      <td>0.0</td>\n",
       "      <td>0.0</td>\n",
       "      <td>1.0</td>\n",
       "      <td>NaN</td>\n",
       "      <td>NaN</td>\n",
       "      <td>0.124988</td>\n",
       "      <td>0.0</td>\n",
       "      <td>NaN</td>\n",
       "    </tr>\n",
       "    <tr>\n",
       "      <th>2</th>\n",
       "      <td>0.515147</td>\n",
       "      <td>NaN</td>\n",
       "      <td>137013</td>\n",
       "      <td>NaN</td>\n",
       "      <td>NaN</td>\n",
       "      <td>6733.0</td>\n",
       "      <td>7.0</td>\n",
       "      <td>NaN</td>\n",
       "      <td>0.0</td>\n",
       "      <td>0.0</td>\n",
       "      <td>0.0</td>\n",
       "      <td>0.0</td>\n",
       "      <td>0.0</td>\n",
       "      <td>3.0</td>\n",
       "      <td>NaN</td>\n",
       "      <td>NaN</td>\n",
       "      <td>0.060258</td>\n",
       "      <td>0.0</td>\n",
       "      <td>NaN</td>\n",
       "    </tr>\n",
       "    <tr>\n",
       "      <th>3</th>\n",
       "      <td>0.165127</td>\n",
       "      <td>NaN</td>\n",
       "      <td>51306</td>\n",
       "      <td>NaN</td>\n",
       "      <td>NaN</td>\n",
       "      <td>13316.0</td>\n",
       "      <td>10.0</td>\n",
       "      <td>NaN</td>\n",
       "      <td>0.0</td>\n",
       "      <td>0.0</td>\n",
       "      <td>0.0</td>\n",
       "      <td>0.0</td>\n",
       "      <td>0.0</td>\n",
       "      <td>1.0</td>\n",
       "      <td>NaN</td>\n",
       "      <td>NaN</td>\n",
       "      <td>0.064322</td>\n",
       "      <td>0.0</td>\n",
       "      <td>NaN</td>\n",
       "    </tr>\n",
       "  </tbody>\n",
       "</table>\n",
       "</div>"
      ],
      "text/plain": [
       "   DebtRatio  Gender      ID Location Martial_Status  MonthlyIncome  \\\n",
       "0   0.296409     NaN   83236      NaN            NaN        11500.0   \n",
       "1   0.115903     NaN    2503      NaN            NaN        14166.0   \n",
       "2   0.515147     NaN  137013      NaN            NaN         6733.0   \n",
       "3   0.165127     NaN   51306      NaN            NaN        13316.0   \n",
       "\n",
       "   No_Of_OpenCreditLines  No_Years_address  No_of_30_59_DPD  \\\n",
       "0                   12.0               NaN              0.0   \n",
       "1                   13.0               NaN              0.0   \n",
       "2                    7.0               NaN              0.0   \n",
       "3                   10.0               NaN              0.0   \n",
       "\n",
       "   No_of_30_Plus_DPD  No_of_60_89_DPD  No_of_60_plus_DPD  No_of_90_DPD  \\\n",
       "0                0.0              0.0                0.0           0.0   \n",
       "1                0.0              0.0                0.0           0.0   \n",
       "2                0.0              0.0                0.0           0.0   \n",
       "3                0.0              0.0                0.0           0.0   \n",
       "\n",
       "   No_of_RealEstateLoans  No_of_dependents  Own_House  RevolvingUtilization  \\\n",
       "0                    3.0               NaN        NaN              0.311726   \n",
       "1                    1.0               NaN        NaN              0.124988   \n",
       "2                    3.0               NaN        NaN              0.060258   \n",
       "3                    1.0               NaN        NaN              0.064322   \n",
       "\n",
       "   SeriousDlqin2yrs  age  \n",
       "0               0.0  NaN  \n",
       "1               0.0  NaN  \n",
       "2               0.0  NaN  \n",
       "3               0.0  NaN  "
      ]
     },
     "execution_count": 27,
     "metadata": {},
     "output_type": "execute_result"
    }
   ],
   "source": [
    "cust_fulljoin.head(4)"
   ]
  },
  {
   "cell_type": "markdown",
   "metadata": {},
   "source": [
    "-->Create two data sets by taking random sample from cust_demo with 5% data in first data set and 10000 observations in second data set."
   ]
  },
  {
   "cell_type": "code",
   "execution_count": 28,
   "metadata": {},
   "outputs": [],
   "source": [
    "f_per = cust_demo.sample(frac=0.05)"
   ]
  },
  {
   "cell_type": "code",
   "execution_count": 29,
   "metadata": {},
   "outputs": [
    {
     "data": {
      "text/html": [
       "<div>\n",
       "<style scoped>\n",
       "    .dataframe tbody tr th:only-of-type {\n",
       "        vertical-align: middle;\n",
       "    }\n",
       "\n",
       "    .dataframe tbody tr th {\n",
       "        vertical-align: top;\n",
       "    }\n",
       "\n",
       "    .dataframe thead th {\n",
       "        text-align: right;\n",
       "    }\n",
       "</style>\n",
       "<table border=\"1\" class=\"dataframe\">\n",
       "  <thead>\n",
       "    <tr style=\"text-align: right;\">\n",
       "      <th></th>\n",
       "      <th>ID</th>\n",
       "      <th>Location</th>\n",
       "      <th>Gender</th>\n",
       "      <th>age</th>\n",
       "      <th>Martial_Status</th>\n",
       "      <th>No_of_dependents</th>\n",
       "      <th>Own_House</th>\n",
       "      <th>No_Years_address</th>\n",
       "    </tr>\n",
       "  </thead>\n",
       "  <tbody>\n",
       "    <tr>\n",
       "      <th>5709</th>\n",
       "      <td>38344</td>\n",
       "      <td>Shimla,Himachal Pradesh</td>\n",
       "      <td>0</td>\n",
       "      <td>46</td>\n",
       "      <td>Single</td>\n",
       "      <td>3.0</td>\n",
       "      <td>0</td>\n",
       "      <td>3</td>\n",
       "    </tr>\n",
       "    <tr>\n",
       "      <th>125409</th>\n",
       "      <td>15745</td>\n",
       "      <td>Bangalore,Karnataka</td>\n",
       "      <td>1</td>\n",
       "      <td>50</td>\n",
       "      <td>Married</td>\n",
       "      <td>1.0</td>\n",
       "      <td>1</td>\n",
       "      <td>3</td>\n",
       "    </tr>\n",
       "    <tr>\n",
       "      <th>81104</th>\n",
       "      <td>81179</td>\n",
       "      <td>Shillong,Meghalaya</td>\n",
       "      <td>1</td>\n",
       "      <td>32</td>\n",
       "      <td>Married</td>\n",
       "      <td>2.0</td>\n",
       "      <td>1</td>\n",
       "      <td>1</td>\n",
       "    </tr>\n",
       "    <tr>\n",
       "      <th>136379</th>\n",
       "      <td>94371</td>\n",
       "      <td>Chandigarh,Haryana</td>\n",
       "      <td>0</td>\n",
       "      <td>47</td>\n",
       "      <td>Single</td>\n",
       "      <td>0.0</td>\n",
       "      <td>0</td>\n",
       "      <td>2</td>\n",
       "    </tr>\n",
       "  </tbody>\n",
       "</table>\n",
       "</div>"
      ],
      "text/plain": [
       "           ID                 Location  Gender  age Martial_Status  \\\n",
       "5709    38344  Shimla,Himachal Pradesh       0   46         Single   \n",
       "125409  15745      Bangalore,Karnataka       1   50        Married   \n",
       "81104   81179       Shillong,Meghalaya       1   32        Married   \n",
       "136379  94371       Chandigarh,Haryana       0   47         Single   \n",
       "\n",
       "        No_of_dependents  Own_House  No_Years_address  \n",
       "5709                 3.0          0                 3  \n",
       "125409               1.0          1                 3  \n",
       "81104                2.0          1                 1  \n",
       "136379               0.0          0                 2  "
      ]
     },
     "execution_count": 29,
     "metadata": {},
     "output_type": "execute_result"
    }
   ],
   "source": [
    "f_per.head(4)"
   ]
  },
  {
   "cell_type": "code",
   "execution_count": 30,
   "metadata": {},
   "outputs": [
    {
     "data": {
      "text/plain": [
       "(7498, 8)"
      ]
     },
     "execution_count": 30,
     "metadata": {},
     "output_type": "execute_result"
    }
   ],
   "source": [
    "f_per.shape"
   ]
  },
  {
   "cell_type": "code",
   "execution_count": 31,
   "metadata": {},
   "outputs": [
    {
     "data": {
      "text/plain": [
       "(149956, 8)"
      ]
     },
     "execution_count": 31,
     "metadata": {},
     "output_type": "execute_result"
    }
   ],
   "source": [
    "cust_demo.shape"
   ]
  },
  {
   "cell_type": "code",
   "execution_count": 32,
   "metadata": {},
   "outputs": [],
   "source": [
    "r_samp = cust_demo.sample(n=10000)"
   ]
  },
  {
   "cell_type": "code",
   "execution_count": 33,
   "metadata": {},
   "outputs": [
    {
     "data": {
      "text/plain": [
       "(10000, 8)"
      ]
     },
     "execution_count": 33,
     "metadata": {},
     "output_type": "execute_result"
    }
   ],
   "source": [
    "r_samp.shape"
   ]
  },
  {
   "cell_type": "code",
   "execution_count": 34,
   "metadata": {
    "scrolled": true
   },
   "outputs": [
    {
     "data": {
      "text/html": [
       "<div>\n",
       "<style scoped>\n",
       "    .dataframe tbody tr th:only-of-type {\n",
       "        vertical-align: middle;\n",
       "    }\n",
       "\n",
       "    .dataframe tbody tr th {\n",
       "        vertical-align: top;\n",
       "    }\n",
       "\n",
       "    .dataframe thead th {\n",
       "        text-align: right;\n",
       "    }\n",
       "</style>\n",
       "<table border=\"1\" class=\"dataframe\">\n",
       "  <thead>\n",
       "    <tr style=\"text-align: right;\">\n",
       "      <th></th>\n",
       "      <th>ID</th>\n",
       "      <th>SeriousDlqin2yrs</th>\n",
       "      <th>RevolvingUtilization</th>\n",
       "      <th>No_of_30_59_DPD</th>\n",
       "      <th>DebtRatio</th>\n",
       "      <th>MonthlyIncome</th>\n",
       "      <th>No_Of_OpenCreditLines</th>\n",
       "      <th>No_of_90_DPD</th>\n",
       "      <th>No_of_RealEstateLoans</th>\n",
       "      <th>No_of_60_89_DPD</th>\n",
       "      <th>No_of_30_Plus_DPD</th>\n",
       "      <th>No_of_60_plus_DPD</th>\n",
       "      <th>Location</th>\n",
       "      <th>Gender</th>\n",
       "      <th>age</th>\n",
       "      <th>Martial_Status</th>\n",
       "      <th>No_of_dependents</th>\n",
       "      <th>Own_House</th>\n",
       "      <th>No_Years_address</th>\n",
       "    </tr>\n",
       "  </thead>\n",
       "  <tbody>\n",
       "    <tr>\n",
       "      <th>0</th>\n",
       "      <td>83236</td>\n",
       "      <td>0</td>\n",
       "      <td>0.311726</td>\n",
       "      <td>0</td>\n",
       "      <td>0.296409</td>\n",
       "      <td>11500.0</td>\n",
       "      <td>12</td>\n",
       "      <td>0</td>\n",
       "      <td>3</td>\n",
       "      <td>0</td>\n",
       "      <td>0</td>\n",
       "      <td>0</td>\n",
       "      <td>Raipur,Chhattisgarh</td>\n",
       "      <td>0.0</td>\n",
       "      <td>46.0</td>\n",
       "      <td>Single</td>\n",
       "      <td>2.0</td>\n",
       "      <td>1.0</td>\n",
       "      <td>3.0</td>\n",
       "    </tr>\n",
       "    <tr>\n",
       "      <th>1</th>\n",
       "      <td>2503</td>\n",
       "      <td>0</td>\n",
       "      <td>0.124988</td>\n",
       "      <td>0</td>\n",
       "      <td>0.115903</td>\n",
       "      <td>14166.0</td>\n",
       "      <td>13</td>\n",
       "      <td>0</td>\n",
       "      <td>1</td>\n",
       "      <td>0</td>\n",
       "      <td>0</td>\n",
       "      <td>0</td>\n",
       "      <td>Itanagar,Arunachal Pradesh</td>\n",
       "      <td>1.0</td>\n",
       "      <td>57.0</td>\n",
       "      <td>Single</td>\n",
       "      <td>2.0</td>\n",
       "      <td>0.0</td>\n",
       "      <td>3.0</td>\n",
       "    </tr>\n",
       "    <tr>\n",
       "      <th>2</th>\n",
       "      <td>137013</td>\n",
       "      <td>0</td>\n",
       "      <td>0.060258</td>\n",
       "      <td>0</td>\n",
       "      <td>0.515147</td>\n",
       "      <td>6733.0</td>\n",
       "      <td>7</td>\n",
       "      <td>0</td>\n",
       "      <td>3</td>\n",
       "      <td>0</td>\n",
       "      <td>0</td>\n",
       "      <td>0</td>\n",
       "      <td>Chandigarh,Haryana</td>\n",
       "      <td>0.0</td>\n",
       "      <td>56.0</td>\n",
       "      <td>Married</td>\n",
       "      <td>0.0</td>\n",
       "      <td>1.0</td>\n",
       "      <td>1.0</td>\n",
       "    </tr>\n",
       "    <tr>\n",
       "      <th>3</th>\n",
       "      <td>51306</td>\n",
       "      <td>0</td>\n",
       "      <td>0.064322</td>\n",
       "      <td>0</td>\n",
       "      <td>0.165127</td>\n",
       "      <td>13316.0</td>\n",
       "      <td>10</td>\n",
       "      <td>0</td>\n",
       "      <td>1</td>\n",
       "      <td>0</td>\n",
       "      <td>0</td>\n",
       "      <td>0</td>\n",
       "      <td>Aizawl,Mizoram</td>\n",
       "      <td>0.0</td>\n",
       "      <td>56.0</td>\n",
       "      <td>Single</td>\n",
       "      <td>2.0</td>\n",
       "      <td>0.0</td>\n",
       "      <td>1.0</td>\n",
       "    </tr>\n",
       "  </tbody>\n",
       "</table>\n",
       "</div>"
      ],
      "text/plain": [
       "       ID  SeriousDlqin2yrs  RevolvingUtilization  No_of_30_59_DPD  DebtRatio  \\\n",
       "0   83236                 0              0.311726                0   0.296409   \n",
       "1    2503                 0              0.124988                0   0.115903   \n",
       "2  137013                 0              0.060258                0   0.515147   \n",
       "3   51306                 0              0.064322                0   0.165127   \n",
       "\n",
       "   MonthlyIncome  No_Of_OpenCreditLines  No_of_90_DPD  No_of_RealEstateLoans  \\\n",
       "0        11500.0                     12             0                      3   \n",
       "1        14166.0                     13             0                      1   \n",
       "2         6733.0                      7             0                      3   \n",
       "3        13316.0                     10             0                      1   \n",
       "\n",
       "   No_of_60_89_DPD  No_of_30_Plus_DPD  No_of_60_plus_DPD  \\\n",
       "0                0                  0                  0   \n",
       "1                0                  0                  0   \n",
       "2                0                  0                  0   \n",
       "3                0                  0                  0   \n",
       "\n",
       "                     Location  Gender   age Martial_Status  No_of_dependents  \\\n",
       "0         Raipur,Chhattisgarh     0.0  46.0         Single               2.0   \n",
       "1  Itanagar,Arunachal Pradesh     1.0  57.0         Single               2.0   \n",
       "2          Chandigarh,Haryana     0.0  56.0        Married               0.0   \n",
       "3              Aizawl,Mizoram     0.0  56.0         Single               2.0   \n",
       "\n",
       "   Own_House  No_Years_address  \n",
       "0        1.0               3.0  \n",
       "1        0.0               3.0  \n",
       "2        1.0               1.0  \n",
       "3        0.0               1.0  "
      ]
     },
     "execution_count": 34,
     "metadata": {},
     "output_type": "execute_result"
    }
   ],
   "source": [
    "cust_leftjoin.head(4)"
   ]
  },
  {
   "cell_type": "markdown",
   "metadata": {},
   "source": [
    "-->Calculate “number of customers” and “number of married customer” using combined data set comes from left join of cust_data and cust_demo"
   ]
  },
  {
   "cell_type": "code",
   "execution_count": 35,
   "metadata": {},
   "outputs": [
    {
     "data": {
      "text/plain": [
       "149902"
      ]
     },
     "execution_count": 35,
     "metadata": {},
     "output_type": "execute_result"
    }
   ],
   "source": [
    "cust_leftjoin['ID'].count()"
   ]
  },
  {
   "cell_type": "code",
   "execution_count": 36,
   "metadata": {},
   "outputs": [
    {
     "data": {
      "text/plain": [
       "Single     107039\n",
       "Married     42819\n",
       "Name: Martial_Status, dtype: int64"
      ]
     },
     "execution_count": 36,
     "metadata": {},
     "output_type": "execute_result"
    }
   ],
   "source": [
    "cust_leftjoin['Martial_Status'].value_counts()"
   ]
  },
  {
   "cell_type": "code",
   "execution_count": 37,
   "metadata": {},
   "outputs": [
    {
     "data": {
      "text/html": [
       "<div>\n",
       "<style scoped>\n",
       "    .dataframe tbody tr th:only-of-type {\n",
       "        vertical-align: middle;\n",
       "    }\n",
       "\n",
       "    .dataframe tbody tr th {\n",
       "        vertical-align: top;\n",
       "    }\n",
       "\n",
       "    .dataframe thead th {\n",
       "        text-align: right;\n",
       "    }\n",
       "</style>\n",
       "<table border=\"1\" class=\"dataframe\">\n",
       "  <thead>\n",
       "    <tr style=\"text-align: right;\">\n",
       "      <th></th>\n",
       "      <th>ID</th>\n",
       "      <th>SeriousDlqin2yrs</th>\n",
       "      <th>RevolvingUtilization</th>\n",
       "      <th>No_of_30_59_DPD</th>\n",
       "      <th>DebtRatio</th>\n",
       "      <th>MonthlyIncome</th>\n",
       "      <th>No_Of_OpenCreditLines</th>\n",
       "      <th>No_of_90_DPD</th>\n",
       "      <th>No_of_RealEstateLoans</th>\n",
       "      <th>No_of_60_89_DPD</th>\n",
       "      <th>No_of_30_Plus_DPD</th>\n",
       "      <th>No_of_60_plus_DPD</th>\n",
       "    </tr>\n",
       "  </thead>\n",
       "  <tbody>\n",
       "    <tr>\n",
       "      <th>0</th>\n",
       "      <td>83236</td>\n",
       "      <td>0</td>\n",
       "      <td>0.311726</td>\n",
       "      <td>0</td>\n",
       "      <td>0.296409</td>\n",
       "      <td>11500.0</td>\n",
       "      <td>12</td>\n",
       "      <td>0</td>\n",
       "      <td>3</td>\n",
       "      <td>0</td>\n",
       "      <td>0</td>\n",
       "      <td>0</td>\n",
       "    </tr>\n",
       "    <tr>\n",
       "      <th>1</th>\n",
       "      <td>2503</td>\n",
       "      <td>0</td>\n",
       "      <td>0.124988</td>\n",
       "      <td>0</td>\n",
       "      <td>0.115903</td>\n",
       "      <td>14166.0</td>\n",
       "      <td>13</td>\n",
       "      <td>0</td>\n",
       "      <td>1</td>\n",
       "      <td>0</td>\n",
       "      <td>0</td>\n",
       "      <td>0</td>\n",
       "    </tr>\n",
       "  </tbody>\n",
       "</table>\n",
       "</div>"
      ],
      "text/plain": [
       "      ID  SeriousDlqin2yrs  RevolvingUtilization  No_of_30_59_DPD  DebtRatio  \\\n",
       "0  83236                 0              0.311726                0   0.296409   \n",
       "1   2503                 0              0.124988                0   0.115903   \n",
       "\n",
       "   MonthlyIncome  No_Of_OpenCreditLines  No_of_90_DPD  No_of_RealEstateLoans  \\\n",
       "0        11500.0                     12             0                      3   \n",
       "1        14166.0                     13             0                      1   \n",
       "\n",
       "   No_of_60_89_DPD  No_of_30_Plus_DPD  No_of_60_plus_DPD  \n",
       "0                0                  0                  0  \n",
       "1                0                  0                  0  "
      ]
     },
     "execution_count": 37,
     "metadata": {},
     "output_type": "execute_result"
    }
   ],
   "source": [
    "cust_data.head(2)"
   ]
  },
  {
   "cell_type": "code",
   "execution_count": 38,
   "metadata": {
    "scrolled": true
   },
   "outputs": [
    {
     "data": {
      "text/html": [
       "<div>\n",
       "<style scoped>\n",
       "    .dataframe tbody tr th:only-of-type {\n",
       "        vertical-align: middle;\n",
       "    }\n",
       "\n",
       "    .dataframe tbody tr th {\n",
       "        vertical-align: top;\n",
       "    }\n",
       "\n",
       "    .dataframe thead th {\n",
       "        text-align: right;\n",
       "    }\n",
       "</style>\n",
       "<table border=\"1\" class=\"dataframe\">\n",
       "  <thead>\n",
       "    <tr style=\"text-align: right;\">\n",
       "      <th></th>\n",
       "      <th>ID</th>\n",
       "      <th>Location</th>\n",
       "      <th>Gender</th>\n",
       "      <th>age</th>\n",
       "      <th>Martial_Status</th>\n",
       "      <th>No_of_dependents</th>\n",
       "      <th>Own_House</th>\n",
       "      <th>No_Years_address</th>\n",
       "    </tr>\n",
       "  </thead>\n",
       "  <tbody>\n",
       "    <tr>\n",
       "      <th>0</th>\n",
       "      <td>4532</td>\n",
       "      <td>Gandhinagar,Gujarat</td>\n",
       "      <td>0</td>\n",
       "      <td>39</td>\n",
       "      <td>Single</td>\n",
       "      <td>1.0</td>\n",
       "      <td>1</td>\n",
       "      <td>3</td>\n",
       "    </tr>\n",
       "    <tr>\n",
       "      <th>1</th>\n",
       "      <td>148736</td>\n",
       "      <td>Hyderabad,Andhra Pradesh</td>\n",
       "      <td>0</td>\n",
       "      <td>52</td>\n",
       "      <td>Married</td>\n",
       "      <td>0.0</td>\n",
       "      <td>0</td>\n",
       "      <td>3</td>\n",
       "    </tr>\n",
       "  </tbody>\n",
       "</table>\n",
       "</div>"
      ],
      "text/plain": [
       "       ID                  Location  Gender  age Martial_Status  \\\n",
       "0    4532       Gandhinagar,Gujarat       0   39         Single   \n",
       "1  148736  Hyderabad,Andhra Pradesh       0   52        Married   \n",
       "\n",
       "   No_of_dependents  Own_House  No_Years_address  \n",
       "0               1.0          1                 3  \n",
       "1               0.0          0                 3  "
      ]
     },
     "execution_count": 38,
     "metadata": {},
     "output_type": "execute_result"
    }
   ],
   "source": [
    "cust_demo.head(2)"
   ]
  },
  {
   "cell_type": "markdown",
   "metadata": {},
   "source": [
    "-->Create summary report with below column by combination of Gender, Serious_delinquency.\n",
    "\n",
    "a.\tNumber of customers\n",
    "\n",
    "b.\tPercentage of customers\n",
    "\n",
    "c.\tAverage Revolving utilization\n",
    "\n",
    "d.\tStandard deviation with in the utilization\n",
    "\n",
    "e.\tAverage monthly income\n",
    "\n",
    "f.\tMaximum Monthly income\n",
    "\n",
    "g.\tStandard deviation with in the income\n",
    "\n",
    "h.\tAverage Age\n",
    "\n",
    "i.\tAverage Dependents\n"
   ]
  },
  {
   "cell_type": "code",
   "execution_count": 70,
   "metadata": {},
   "outputs": [],
   "source": [
    "group_aa = cust_leftjoin.groupby(['Gender','SeriousDlqin2yrs'])"
   ]
  },
  {
   "cell_type": "code",
   "execution_count": 71,
   "metadata": {},
   "outputs": [],
   "source": [
    "cus_count = group_aa['ID'].count()"
   ]
  },
  {
   "cell_type": "code",
   "execution_count": 72,
   "metadata": {},
   "outputs": [],
   "source": [
    "cc = group_aa['ID'].count()"
   ]
  },
  {
   "cell_type": "code",
   "execution_count": 73,
   "metadata": {},
   "outputs": [],
   "source": [
    "ss = cc.sum()"
   ]
  },
  {
   "cell_type": "code",
   "execution_count": 74,
   "metadata": {},
   "outputs": [],
   "source": [
    "sum_per = cc / ss *100"
   ]
  },
  {
   "cell_type": "code",
   "execution_count": 77,
   "metadata": {},
   "outputs": [],
   "source": [
    "avg_utili = group_aa['RevolvingUtilization'].mean()"
   ]
  },
  {
   "cell_type": "code",
   "execution_count": 78,
   "metadata": {},
   "outputs": [],
   "source": [
    "std_utili = group_aa['RevolvingUtilization'].std()"
   ]
  },
  {
   "cell_type": "code",
   "execution_count": 79,
   "metadata": {},
   "outputs": [],
   "source": [
    "avg_income = group_aa['MonthlyIncome'].mean()"
   ]
  },
  {
   "cell_type": "code",
   "execution_count": 80,
   "metadata": {},
   "outputs": [],
   "source": [
    "max_income = group_aa['MonthlyIncome'].max()"
   ]
  },
  {
   "cell_type": "code",
   "execution_count": 81,
   "metadata": {},
   "outputs": [],
   "source": [
    "std_income = group_aa['MonthlyIncome'].std()"
   ]
  },
  {
   "cell_type": "code",
   "execution_count": 82,
   "metadata": {},
   "outputs": [],
   "source": [
    "avg_age = group_aa['age'].mean()"
   ]
  },
  {
   "cell_type": "code",
   "execution_count": 105,
   "metadata": {},
   "outputs": [],
   "source": [
    "avg_dep = group_aa['No_of_dependents'].mean()"
   ]
  },
  {
   "cell_type": "code",
   "execution_count": 198,
   "metadata": {},
   "outputs": [],
   "source": [
    "sum_report = pd.concat([cus_count,sum_per,avg_utili,std_utili,avg_income,max_income,std_income,avg_age,avg_dep],keys = ['customer_count','customer_%','average_utilization','std_dev_utilization','avg_income','max_income','std_dev_income','avg_age','avg_dependencies'],axis=1)"
   ]
  },
  {
   "cell_type": "code",
   "execution_count": 199,
   "metadata": {
    "scrolled": false
   },
   "outputs": [
    {
     "data": {
      "text/html": [
       "<div>\n",
       "<style scoped>\n",
       "    .dataframe tbody tr th:only-of-type {\n",
       "        vertical-align: middle;\n",
       "    }\n",
       "\n",
       "    .dataframe tbody tr th {\n",
       "        vertical-align: top;\n",
       "    }\n",
       "\n",
       "    .dataframe thead th {\n",
       "        text-align: right;\n",
       "    }\n",
       "</style>\n",
       "<table border=\"1\" class=\"dataframe\">\n",
       "  <thead>\n",
       "    <tr style=\"text-align: right;\">\n",
       "      <th></th>\n",
       "      <th></th>\n",
       "      <th>customer_count</th>\n",
       "      <th>customer_%</th>\n",
       "      <th>average_utilization</th>\n",
       "      <th>std_dev_utilization</th>\n",
       "      <th>avg_income</th>\n",
       "      <th>max_income</th>\n",
       "      <th>std_dev_income</th>\n",
       "      <th>avg_age</th>\n",
       "      <th>avg_dependencies</th>\n",
       "    </tr>\n",
       "    <tr>\n",
       "      <th>Gender</th>\n",
       "      <th>SeriousDlqin2yrs</th>\n",
       "      <th></th>\n",
       "      <th></th>\n",
       "      <th></th>\n",
       "      <th></th>\n",
       "      <th></th>\n",
       "      <th></th>\n",
       "      <th></th>\n",
       "      <th></th>\n",
       "      <th></th>\n",
       "    </tr>\n",
       "  </thead>\n",
       "  <tbody>\n",
       "    <tr>\n",
       "      <th rowspan=\"2\" valign=\"top\">0.0</th>\n",
       "      <th>0</th>\n",
       "      <td>87381</td>\n",
       "      <td>58.309199</td>\n",
       "      <td>7.279863</td>\n",
       "      <td>288.877443</td>\n",
       "      <td>6676.964828</td>\n",
       "      <td>835040.0</td>\n",
       "      <td>8950.773701</td>\n",
       "      <td>52.750403</td>\n",
       "      <td>0.743642</td>\n",
       "    </tr>\n",
       "    <tr>\n",
       "      <th>1</th>\n",
       "      <td>6287</td>\n",
       "      <td>4.195305</td>\n",
       "      <td>5.295516</td>\n",
       "      <td>145.701505</td>\n",
       "      <td>5522.818565</td>\n",
       "      <td>81000.0</td>\n",
       "      <td>4669.707578</td>\n",
       "      <td>45.684110</td>\n",
       "      <td>0.929393</td>\n",
       "    </tr>\n",
       "    <tr>\n",
       "      <th rowspan=\"2\" valign=\"top\">1.0</th>\n",
       "      <th>0</th>\n",
       "      <td>52462</td>\n",
       "      <td>35.007807</td>\n",
       "      <td>4.332912</td>\n",
       "      <td>189.815316</td>\n",
       "      <td>6866.835622</td>\n",
       "      <td>3008750.0</td>\n",
       "      <td>21260.060839</td>\n",
       "      <td>52.754413</td>\n",
       "      <td>0.742653</td>\n",
       "    </tr>\n",
       "    <tr>\n",
       "      <th>1</th>\n",
       "      <td>3728</td>\n",
       "      <td>2.487688</td>\n",
       "      <td>2.813082</td>\n",
       "      <td>104.605013</td>\n",
       "      <td>5811.826739</td>\n",
       "      <td>250000.0</td>\n",
       "      <td>8077.034775</td>\n",
       "      <td>46.335300</td>\n",
       "      <td>0.981426</td>\n",
       "    </tr>\n",
       "  </tbody>\n",
       "</table>\n",
       "</div>"
      ],
      "text/plain": [
       "                         customer_count  customer_%  average_utilization  \\\n",
       "Gender SeriousDlqin2yrs                                                    \n",
       "0.0    0                          87381   58.309199             7.279863   \n",
       "       1                           6287    4.195305             5.295516   \n",
       "1.0    0                          52462   35.007807             4.332912   \n",
       "       1                           3728    2.487688             2.813082   \n",
       "\n",
       "                         std_dev_utilization   avg_income  max_income  \\\n",
       "Gender SeriousDlqin2yrs                                                 \n",
       "0.0    0                          288.877443  6676.964828    835040.0   \n",
       "       1                          145.701505  5522.818565     81000.0   \n",
       "1.0    0                          189.815316  6866.835622   3008750.0   \n",
       "       1                          104.605013  5811.826739    250000.0   \n",
       "\n",
       "                         std_dev_income    avg_age  avg_dependencies  \n",
       "Gender SeriousDlqin2yrs                                               \n",
       "0.0    0                    8950.773701  52.750403          0.743642  \n",
       "       1                    4669.707578  45.684110          0.929393  \n",
       "1.0    0                   21260.060839  52.754413          0.742653  \n",
       "       1                    8077.034775  46.335300          0.981426  "
      ]
     },
     "execution_count": 199,
     "metadata": {},
     "output_type": "execute_result"
    }
   ],
   "source": [
    "sum_report"
   ]
  },
  {
   "cell_type": "markdown",
   "metadata": {},
   "source": [
    "-->Create summary report with below information\n",
    "\n",
    "a.\tNumber of married customers\n",
    "\n",
    "b.\tPercentage of married customers\n"
   ]
  },
  {
   "cell_type": "code",
   "execution_count": 189,
   "metadata": {},
   "outputs": [],
   "source": [
    "grouped = cust_leftjoin.groupby(cust_leftjoin['Martial_Status'])"
   ]
  },
  {
   "cell_type": "code",
   "execution_count": 192,
   "metadata": {},
   "outputs": [],
   "source": [
    "count_mar = grouped['ID'].count()"
   ]
  },
  {
   "cell_type": "code",
   "execution_count": 194,
   "metadata": {},
   "outputs": [],
   "source": [
    "total_mar = count_mar.sum()"
   ]
  },
  {
   "cell_type": "code",
   "execution_count": 195,
   "metadata": {},
   "outputs": [],
   "source": [
    "mar_per = count_mar / total_mar *100"
   ]
  },
  {
   "cell_type": "code",
   "execution_count": 203,
   "metadata": {},
   "outputs": [],
   "source": [
    "mar_report = pd.concat([count_mar,mar_per],keys = ['Married_count','Married_%'],axis=1)"
   ]
  },
  {
   "cell_type": "code",
   "execution_count": 204,
   "metadata": {},
   "outputs": [
    {
     "data": {
      "text/html": [
       "<div>\n",
       "<style scoped>\n",
       "    .dataframe tbody tr th:only-of-type {\n",
       "        vertical-align: middle;\n",
       "    }\n",
       "\n",
       "    .dataframe tbody tr th {\n",
       "        vertical-align: top;\n",
       "    }\n",
       "\n",
       "    .dataframe thead th {\n",
       "        text-align: right;\n",
       "    }\n",
       "</style>\n",
       "<table border=\"1\" class=\"dataframe\">\n",
       "  <thead>\n",
       "    <tr style=\"text-align: right;\">\n",
       "      <th></th>\n",
       "      <th>Married_count</th>\n",
       "      <th>Married_%</th>\n",
       "    </tr>\n",
       "    <tr>\n",
       "      <th>Martial_Status</th>\n",
       "      <th></th>\n",
       "      <th></th>\n",
       "    </tr>\n",
       "  </thead>\n",
       "  <tbody>\n",
       "    <tr>\n",
       "      <th>Married</th>\n",
       "      <td>42819</td>\n",
       "      <td>28.573049</td>\n",
       "    </tr>\n",
       "    <tr>\n",
       "      <th>Single</th>\n",
       "      <td>107039</td>\n",
       "      <td>71.426951</td>\n",
       "    </tr>\n",
       "  </tbody>\n",
       "</table>\n",
       "</div>"
      ],
      "text/plain": [
       "                Married_count  Married_%\n",
       "Martial_Status                          \n",
       "Married                 42819  28.573049\n",
       "Single                 107039  71.426951"
      ]
     },
     "execution_count": 204,
     "metadata": {},
     "output_type": "execute_result"
    }
   ],
   "source": [
    "mar_report"
   ]
  },
  {
   "cell_type": "code",
   "execution_count": null,
   "metadata": {},
   "outputs": [],
   "source": []
  }
 ],
 "metadata": {
  "kernelspec": {
   "display_name": "Python 2",
   "language": "python",
   "name": "python2"
  },
  "language_info": {
   "codemirror_mode": {
    "name": "ipython",
    "version": 2
   },
   "file_extension": ".py",
   "mimetype": "text/x-python",
   "name": "python",
   "nbconvert_exporter": "python",
   "pygments_lexer": "ipython2",
   "version": "2.7.14"
  }
 },
 "nbformat": 4,
 "nbformat_minor": 2
}
